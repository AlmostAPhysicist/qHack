{
 "cells": [
  {
   "cell_type": "code",
   "execution_count": null,
   "metadata": {},
   "outputs": [
    {
     "name": "stdout",
     "output_type": "stream",
     "text": [
      "[WinError 2] The system cannot find the file specified: 'qHack;'\n",
      "e:\\Programming\\Projects\\qHack\\QuantumRings\\qHack\n"
     ]
    },
    {
     "name": "stderr",
     "output_type": "stream",
     "text": [
      "Cloning into 'qHack.git;'...\n",
      "remote: Repository not found.\n",
      "fatal: repository 'https://github.com/AlmostAPhysicist/qHack.git;/' not found\n",
      "e:\\Softwares\\anaconda3\\envs\\qHackpy11\\Lib\\site-packages\\IPython\\core\\magics\\osm.py:393: UserWarning: This is now an optional IPython functionality, using bookmarks requires you to install the `pickleshare` library.\n",
      "  bkms = self.shell.db.get('bookmarks', {})\n"
     ]
    }
   ],
   "source": [
    "!git clone https://github.com/AlmostAPhysicist/qHack.git;\n",
    "%cd qHack;"
   ]
  },
  {
   "cell_type": "code",
   "execution_count": 14,
   "metadata": {},
   "outputs": [
    {
     "name": "stdout",
     "output_type": "stream",
     "text": [
      "Requirement already satisfied: QuantumRingsLib in e:\\softwares\\anaconda3\\envs\\qhackpy11\\lib\\site-packages (0.9.11)\n",
      "Note: you may need to restart the kernel to use updated packages.\n"
     ]
    }
   ],
   "source": [
    "pip install QuantumRingsLib;"
   ]
  },
  {
   "cell_type": "code",
   "execution_count": 15,
   "metadata": {},
   "outputs": [
    {
     "name": "stdout",
     "output_type": "stream",
     "text": [
      "Requirement already satisfied: qiskit in e:\\softwares\\anaconda3\\envs\\qhackpy11\\lib\\site-packages (1.3.2)\n",
      "Requirement already satisfied: rustworkx>=0.15.0 in e:\\softwares\\anaconda3\\envs\\qhackpy11\\lib\\site-packages (from qiskit) (0.16.0)\n",
      "Requirement already satisfied: numpy<3,>=1.17 in e:\\softwares\\anaconda3\\envs\\qhackpy11\\lib\\site-packages (from qiskit) (2.2.2)\n",
      "Requirement already satisfied: scipy>=1.5 in e:\\softwares\\anaconda3\\envs\\qhackpy11\\lib\\site-packages (from qiskit) (1.15.1)\n",
      "Requirement already satisfied: sympy>=1.3 in e:\\softwares\\anaconda3\\envs\\qhackpy11\\lib\\site-packages (from qiskit) (1.13.3)\n",
      "Requirement already satisfied: dill>=0.3 in e:\\softwares\\anaconda3\\envs\\qhackpy11\\lib\\site-packages (from qiskit) (0.3.9)\n",
      "Requirement already satisfied: python-dateutil>=2.8.0 in e:\\softwares\\anaconda3\\envs\\qhackpy11\\lib\\site-packages (from qiskit) (2.9.0.post0)\n",
      "Requirement already satisfied: stevedore>=3.0.0 in e:\\softwares\\anaconda3\\envs\\qhackpy11\\lib\\site-packages (from qiskit) (5.4.0)\n",
      "Requirement already satisfied: typing-extensions in e:\\softwares\\anaconda3\\envs\\qhackpy11\\lib\\site-packages (from qiskit) (4.12.2)\n",
      "Requirement already satisfied: symengine<0.14,>=0.11 in e:\\softwares\\anaconda3\\envs\\qhackpy11\\lib\\site-packages (from qiskit) (0.13.0)\n",
      "Requirement already satisfied: six>=1.5 in e:\\softwares\\anaconda3\\envs\\qhackpy11\\lib\\site-packages (from python-dateutil>=2.8.0->qiskit) (1.16.0)\n",
      "Requirement already satisfied: pbr>=2.0.0 in e:\\softwares\\anaconda3\\envs\\qhackpy11\\lib\\site-packages (from stevedore>=3.0.0->qiskit) (6.1.0)\n",
      "Requirement already satisfied: mpmath<1.4,>=1.1.0 in e:\\softwares\\anaconda3\\envs\\qhackpy11\\lib\\site-packages (from sympy>=1.3->qiskit) (1.3.0)\n",
      "Note: you may need to restart the kernel to use updated packages.\n"
     ]
    }
   ],
   "source": [
    "pip install qiskit;"
   ]
  },
  {
   "cell_type": "code",
   "execution_count": 3,
   "metadata": {},
   "outputs": [
    {
     "name": "stdout",
     "output_type": "stream",
     "text": [
      "Requirement already satisfied: qiskit-ibm-runtime in e:\\softwares\\anaconda3\\envs\\qhackpy11\\lib\\site-packages (0.34.0)\n",
      "Requirement already satisfied: requests>=2.19 in e:\\softwares\\anaconda3\\envs\\qhackpy11\\lib\\site-packages (from qiskit-ibm-runtime) (2.32.3)\n",
      "Requirement already satisfied: requests-ntlm>=1.1.0 in e:\\softwares\\anaconda3\\envs\\qhackpy11\\lib\\site-packages (from qiskit-ibm-runtime) (1.3.0)\n",
      "Requirement already satisfied: numpy>=1.13 in e:\\softwares\\anaconda3\\envs\\qhackpy11\\lib\\site-packages (from qiskit-ibm-runtime) (2.2.2)\n",
      "Requirement already satisfied: urllib3>=1.21.1 in e:\\softwares\\anaconda3\\envs\\qhackpy11\\lib\\site-packages (from qiskit-ibm-runtime) (2.3.0)\n",
      "Requirement already satisfied: python-dateutil>=2.8.0 in e:\\softwares\\anaconda3\\envs\\qhackpy11\\lib\\site-packages (from qiskit-ibm-runtime) (2.9.0.post0)\n",
      "Requirement already satisfied: websocket-client>=1.5.1 in e:\\softwares\\anaconda3\\envs\\qhackpy11\\lib\\site-packages (from qiskit-ibm-runtime) (1.8.0)\n",
      "Requirement already satisfied: ibm-platform-services>=0.22.6 in e:\\softwares\\anaconda3\\envs\\qhackpy11\\lib\\site-packages (from qiskit-ibm-runtime) (0.59.1)\n",
      "Requirement already satisfied: pydantic<2.10,>=2.5.0 in e:\\softwares\\anaconda3\\envs\\qhackpy11\\lib\\site-packages (from qiskit-ibm-runtime) (2.9.2)\n",
      "Requirement already satisfied: qiskit>=1.1.0 in e:\\softwares\\anaconda3\\envs\\qhackpy11\\lib\\site-packages (from qiskit-ibm-runtime) (1.3.2)\n",
      "Requirement already satisfied: ibm_cloud_sdk_core<4.0.0,>=3.22.0 in e:\\softwares\\anaconda3\\envs\\qhackpy11\\lib\\site-packages (from ibm-platform-services>=0.22.6->qiskit-ibm-runtime) (3.22.1)\n",
      "Requirement already satisfied: annotated-types>=0.6.0 in e:\\softwares\\anaconda3\\envs\\qhackpy11\\lib\\site-packages (from pydantic<2.10,>=2.5.0->qiskit-ibm-runtime) (0.7.0)\n",
      "Requirement already satisfied: pydantic-core==2.23.4 in e:\\softwares\\anaconda3\\envs\\qhackpy11\\lib\\site-packages (from pydantic<2.10,>=2.5.0->qiskit-ibm-runtime) (2.23.4)\n",
      "Requirement already satisfied: typing-extensions>=4.6.1 in e:\\softwares\\anaconda3\\envs\\qhackpy11\\lib\\site-packages (from pydantic<2.10,>=2.5.0->qiskit-ibm-runtime) (4.12.2)\n",
      "Requirement already satisfied: six>=1.5 in e:\\softwares\\anaconda3\\envs\\qhackpy11\\lib\\site-packages (from python-dateutil>=2.8.0->qiskit-ibm-runtime) (1.16.0)\n",
      "Requirement already satisfied: rustworkx>=0.15.0 in e:\\softwares\\anaconda3\\envs\\qhackpy11\\lib\\site-packages (from qiskit>=1.1.0->qiskit-ibm-runtime) (0.16.0)\n",
      "Requirement already satisfied: scipy>=1.5 in e:\\softwares\\anaconda3\\envs\\qhackpy11\\lib\\site-packages (from qiskit>=1.1.0->qiskit-ibm-runtime) (1.15.1)\n",
      "Requirement already satisfied: sympy>=1.3 in e:\\softwares\\anaconda3\\envs\\qhackpy11\\lib\\site-packages (from qiskit>=1.1.0->qiskit-ibm-runtime) (1.13.3)\n",
      "Requirement already satisfied: dill>=0.3 in e:\\softwares\\anaconda3\\envs\\qhackpy11\\lib\\site-packages (from qiskit>=1.1.0->qiskit-ibm-runtime) (0.3.9)\n",
      "Requirement already satisfied: stevedore>=3.0.0 in e:\\softwares\\anaconda3\\envs\\qhackpy11\\lib\\site-packages (from qiskit>=1.1.0->qiskit-ibm-runtime) (5.4.0)\n",
      "Requirement already satisfied: symengine<0.14,>=0.11 in e:\\softwares\\anaconda3\\envs\\qhackpy11\\lib\\site-packages (from qiskit>=1.1.0->qiskit-ibm-runtime) (0.13.0)\n",
      "Requirement already satisfied: charset-normalizer<4,>=2 in e:\\softwares\\anaconda3\\envs\\qhackpy11\\lib\\site-packages (from requests>=2.19->qiskit-ibm-runtime) (3.3.2)\n",
      "Requirement already satisfied: idna<4,>=2.5 in e:\\softwares\\anaconda3\\envs\\qhackpy11\\lib\\site-packages (from requests>=2.19->qiskit-ibm-runtime) (3.7)\n",
      "Requirement already satisfied: certifi>=2017.4.17 in e:\\softwares\\anaconda3\\envs\\qhackpy11\\lib\\site-packages (from requests>=2.19->qiskit-ibm-runtime) (2024.12.14)\n",
      "Requirement already satisfied: cryptography>=1.3 in e:\\softwares\\anaconda3\\envs\\qhackpy11\\lib\\site-packages (from requests-ntlm>=1.1.0->qiskit-ibm-runtime) (44.0.0)\n",
      "Requirement already satisfied: pyspnego>=0.4.0 in e:\\softwares\\anaconda3\\envs\\qhackpy11\\lib\\site-packages (from requests-ntlm>=1.1.0->qiskit-ibm-runtime) (0.11.2)\n",
      "Requirement already satisfied: cffi>=1.12 in e:\\softwares\\anaconda3\\envs\\qhackpy11\\lib\\site-packages (from cryptography>=1.3->requests-ntlm>=1.1.0->qiskit-ibm-runtime) (1.17.1)\n",
      "Requirement already satisfied: PyJWT<3.0.0,>=2.8.0 in e:\\softwares\\anaconda3\\envs\\qhackpy11\\lib\\site-packages (from ibm_cloud_sdk_core<4.0.0,>=3.22.0->ibm-platform-services>=0.22.6->qiskit-ibm-runtime) (2.10.1)\n",
      "Requirement already satisfied: sspilib>=0.1.0 in e:\\softwares\\anaconda3\\envs\\qhackpy11\\lib\\site-packages (from pyspnego>=0.4.0->requests-ntlm>=1.1.0->qiskit-ibm-runtime) (0.2.0)\n",
      "Requirement already satisfied: pbr>=2.0.0 in e:\\softwares\\anaconda3\\envs\\qhackpy11\\lib\\site-packages (from stevedore>=3.0.0->qiskit>=1.1.0->qiskit-ibm-runtime) (6.1.0)\n",
      "Requirement already satisfied: mpmath<1.4,>=1.1.0 in e:\\softwares\\anaconda3\\envs\\qhackpy11\\lib\\site-packages (from sympy>=1.3->qiskit>=1.1.0->qiskit-ibm-runtime) (1.3.0)\n",
      "Requirement already satisfied: pycparser in e:\\softwares\\anaconda3\\envs\\qhackpy11\\lib\\site-packages (from cffi>=1.12->cryptography>=1.3->requests-ntlm>=1.1.0->qiskit-ibm-runtime) (2.21)\n",
      "Note: you may need to restart the kernel to use updated packages.\n"
     ]
    }
   ],
   "source": [
    "pip install qiskit-ibm-runtime;"
   ]
  },
  {
   "cell_type": "code",
   "execution_count": 4,
   "metadata": {},
   "outputs": [
    {
     "name": "stdout",
     "output_type": "stream",
     "text": [
      "Collecting matplotlib\n",
      "  Downloading matplotlib-3.10.0-cp311-cp311-win_amd64.whl.metadata (11 kB)\n",
      "Collecting contourpy>=1.0.1 (from matplotlib)\n",
      "  Downloading contourpy-1.3.1-cp311-cp311-win_amd64.whl.metadata (5.4 kB)\n",
      "Collecting cycler>=0.10 (from matplotlib)\n",
      "  Using cached cycler-0.12.1-py3-none-any.whl.metadata (3.8 kB)\n",
      "Collecting fonttools>=4.22.0 (from matplotlib)\n",
      "  Downloading fonttools-4.55.8-cp311-cp311-win_amd64.whl.metadata (103 kB)\n",
      "Collecting kiwisolver>=1.3.1 (from matplotlib)\n",
      "  Downloading kiwisolver-1.4.8-cp311-cp311-win_amd64.whl.metadata (6.3 kB)\n",
      "Requirement already satisfied: numpy>=1.23 in e:\\softwares\\anaconda3\\envs\\qhackpy11\\lib\\site-packages (from matplotlib) (2.2.2)\n",
      "Requirement already satisfied: packaging>=20.0 in e:\\softwares\\anaconda3\\envs\\qhackpy11\\lib\\site-packages (from matplotlib) (24.2)\n",
      "Collecting pillow>=8 (from matplotlib)\n",
      "  Downloading pillow-11.1.0-cp311-cp311-win_amd64.whl.metadata (9.3 kB)\n",
      "Collecting pyparsing>=2.3.1 (from matplotlib)\n",
      "  Downloading pyparsing-3.2.1-py3-none-any.whl.metadata (5.0 kB)\n",
      "Requirement already satisfied: python-dateutil>=2.7 in e:\\softwares\\anaconda3\\envs\\qhackpy11\\lib\\site-packages (from matplotlib) (2.9.0.post0)\n",
      "Requirement already satisfied: six>=1.5 in e:\\softwares\\anaconda3\\envs\\qhackpy11\\lib\\site-packages (from python-dateutil>=2.7->matplotlib) (1.16.0)\n",
      "Downloading matplotlib-3.10.0-cp311-cp311-win_amd64.whl (8.0 MB)\n",
      "   ---------------------------------------- 0.0/8.0 MB ? eta -:--:--\n",
      "   ---------------------------- ----------- 5.8/8.0 MB 29.3 MB/s eta 0:00:01\n",
      "   ---------------------------------------- 8.0/8.0 MB 24.8 MB/s eta 0:00:00\n",
      "Downloading contourpy-1.3.1-cp311-cp311-win_amd64.whl (219 kB)\n",
      "Using cached cycler-0.12.1-py3-none-any.whl (8.3 kB)\n",
      "Downloading fonttools-4.55.8-cp311-cp311-win_amd64.whl (2.2 MB)\n",
      "   ---------------------------------------- 0.0/2.2 MB ? eta -:--:--\n",
      "   ---------------------------------------- 2.2/2.2 MB 30.8 MB/s eta 0:00:00\n",
      "Downloading kiwisolver-1.4.8-cp311-cp311-win_amd64.whl (71 kB)\n",
      "Downloading pillow-11.1.0-cp311-cp311-win_amd64.whl (2.6 MB)\n",
      "   ---------------------------------------- 0.0/2.6 MB ? eta -:--:--\n",
      "   ---------------------------------------- 2.6/2.6 MB 25.1 MB/s eta 0:00:00\n",
      "Downloading pyparsing-3.2.1-py3-none-any.whl (107 kB)\n",
      "Installing collected packages: pyparsing, pillow, kiwisolver, fonttools, cycler, contourpy, matplotlib\n",
      "Successfully installed contourpy-1.3.1 cycler-0.12.1 fonttools-4.55.8 kiwisolver-1.4.8 matplotlib-3.10.0 pillow-11.1.0 pyparsing-3.2.1\n",
      "Note: you may need to restart the kernel to use updated packages.\n"
     ]
    }
   ],
   "source": [
    "pip install matplotlib"
   ]
  },
  {
   "cell_type": "code",
   "execution_count": 5,
   "metadata": {},
   "outputs": [
    {
     "name": "stdout",
     "output_type": "stream",
     "text": [
      "Requirement already satisfied: numpy in e:\\softwares\\anaconda3\\envs\\qhackpy11\\lib\\site-packages (2.2.2)\n",
      "Note: you may need to restart the kernel to use updated packages.\n"
     ]
    }
   ],
   "source": [
    "pip install numpy"
   ]
  },
  {
   "cell_type": "code",
   "execution_count": 6,
   "metadata": {},
   "outputs": [],
   "source": [
    "#Once everything is installed, follow https://portal.quantumrings.com/doc/Usage.html\n",
    "#Login to Quantum Rings and go to \"Manage Keys\" and copy the following\n",
    "\n",
    "import QuantumRingsLib\n",
    "from QuantumRingsLib import QuantumRegister, AncillaRegister, ClassicalRegister, QuantumCircuit\n",
    "from QuantumRingsLib import QuantumRingsProvider\n",
    "from QuantumRingsLib import job_monitor\n",
    "from QuantumRingsLib import JobStatus\n",
    "from matplotlib import pyplot as plt\n",
    "import numpy as np\n",
    "\n",
    "provider = QuantumRingsProvider(\n",
    "    token='rings-128.YXZRFUMMfK0iaD7TlGMbb9Z2qUh3XrBC',\n",
    "    name='aryan.malhotra@rutgers.edu'\n",
    ")\n",
    "backend = provider.get_backend(\"scarlet_quantum_rings\")"
   ]
  },
  {
   "cell_type": "code",
   "execution_count": 7,
   "metadata": {},
   "outputs": [
    {
     "data": {
      "text/plain": [
       "{'name': 'aryan.malhotra@rutgers.edu',\n",
       " 'token': 'rings-128.YXZRFUMMfK0iaD7TlGMbb9Z2qUh3XrBC',\n",
       " 'max_qubits': '128'}"
      ]
     },
     "execution_count": 7,
     "metadata": {},
     "output_type": "execute_result"
    }
   ],
   "source": [
    "shots = 100\n",
    "\n",
    "provider.active_account()"
   ]
  },
  {
   "cell_type": "markdown",
   "metadata": {},
   "source": [
    "## Here is a Test For the quantum circuits"
   ]
  },
  {
   "cell_type": "code",
   "execution_count": 8,
   "metadata": {},
   "outputs": [],
   "source": [
    "def iqft_cct(qc, b, n):\n",
    "    \"\"\"\n",
    "    The inverse QFT circuit\n",
    "\n",
    "    Args:\n",
    "\n",
    "        qc (QuantumCircuit):\n",
    "                The quantum circuit\n",
    "\n",
    "        b (QuantumRegister):\n",
    "                The target register\n",
    "\n",
    "        n (int):\n",
    "                The number of qubits in the registers to use\n",
    "\n",
    "    Returns:\n",
    "        None\n",
    "\n",
    "    \"\"\"\n",
    "\n",
    "    for i in range (n):\n",
    "        for j in range (1, i+1):\n",
    "            # for inverse transform, we have to use negative angles\n",
    "            qc.cu1(  -np.pi / 2** ( i -j + 1 ), b[j - 1], b[i])\n",
    "        # the H transform should be done after the rotations\n",
    "        qc.h(b[i])\n",
    "    qc.barrier()\n",
    "    return\n",
    "\n",
    "def plot_histogram (counts, title=\"\"):\n",
    "    \"\"\"\n",
    "    Plots the histogram of the counts\n",
    "\n",
    "    Args:\n",
    "\n",
    "        counts (dict):\n",
    "            The dictionary containing the counts of states\n",
    "\n",
    "        titles (str):\n",
    "            A title for the graph.\n",
    "\n",
    "    Returns:\n",
    "        None\n",
    "\n",
    "    \"\"\"\n",
    "    fig, ax = plt.subplots(figsize =(10, 7))\n",
    "    plt.xlabel(\"States\")\n",
    "    plt.ylabel(\"Counts\")\n",
    "    mylist = [key for key, val in counts.items() for _ in range(val)]\n",
    "\n",
    "    unique, inverse = np.unique(mylist, return_inverse=True)\n",
    "    bin_counts = np.bincount(inverse)\n",
    "\n",
    "    plt.bar(unique, bin_counts)\n",
    "\n",
    "    maxFreq = max(counts.values())\n",
    "    plt.ylim(ymax=np.ceil(maxFreq / 10) * 10 if maxFreq % 10 else maxFreq + 10)\n",
    "    # Show plot\n",
    "    plt.title(title)\n",
    "    plt.show()\n",
    "    return"
   ]
  },
  {
   "cell_type": "code",
   "execution_count": 9,
   "metadata": {},
   "outputs": [
    {
     "name": "stdout",
     "output_type": "stream",
     "text": [
      "Job Running\n",
      "Job Done.\n",
      "Ending Job Monitor\n"
     ]
    },
    {
     "data": {
      "image/png": "[encoded data removed]",
      "text/plain": [
       "<Figure size 1000x700 with 1 Axes>"
      ]
     },
     "metadata": {},
     "output_type": "display_data"
    }
   ],
   "source": [
    "# Shor’s algorithm to factorize 15 using 7^x mod 15.\n",
    "numberofqubits = 7\n",
    "shots = 1024\n",
    "\n",
    "\n",
    "q = QuantumRegister(numberofqubits , 'q')\n",
    "c = ClassicalRegister(4 , 'c')\n",
    "qc = QuantumCircuit(q, c)\n",
    "\n",
    "# Initialize source and target registers\n",
    "qc.h(0)\n",
    "qc.h(1)\n",
    "qc.h(2)\n",
    "qc.x(6)\n",
    "qc.barrier()\n",
    "\n",
    "# Modular exponentiation 7^x mod 15\n",
    "qc.cx(q[2],q[4] )\n",
    "qc.cx(q[2],q[5] )\n",
    "qc.cx(q[6],q[4] )\n",
    "qc.ccx(q[1],q[5],q[3] )\n",
    "qc.cx(q[3],q[5] )\n",
    "qc.ccx(q[1],q[4],q[6] )\n",
    "qc.cx(q[6],q[4] ) #\n",
    "qc.barrier()\n",
    "\n",
    "# IQFT. Refer to implementation from earlier examples\n",
    "iqft_cct (qc, q, 3)\n",
    "\n",
    "# Measure\n",
    "qc.measure(q[0], c[0])\n",
    "qc.measure(q[1], c[1])\n",
    "qc.measure(q[2], c[2])\n",
    "\n",
    "# Execute the circuit\n",
    "job = backend.run(qc, shots=shots)\n",
    "job_monitor(job)\n",
    "result = job.result()\n",
    "counts = result.get_counts()\n",
    "\n",
    "#clean up\n",
    "del q, c, qc\n",
    "del result\n",
    "del job\n",
    "\n",
    "#visualize\n",
    "plot_histogram(counts)"
   ]
  }
 ],
 "metadata": {
  "kernelspec": {
   "display_name": "qHackpy11",
   "language": "python",
   "name": "python3"
  },
  "language_info": {
   "codemirror_mode": {
    "name": "ipython",
    "version": 3
   },
   "file_extension": ".py",
   "mimetype": "text/x-python",
   "name": "python",
   "nbconvert_exporter": "python",
   "pygments_lexer": "ipython3",
   "version": "3.11.11"
  }
 },
 "nbformat": 4,
 "nbformat_minor": 2
}
