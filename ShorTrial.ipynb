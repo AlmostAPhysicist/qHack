{
 "cells": [
  {
   "cell_type": "code",
   "execution_count": null,
   "metadata": {},
   "outputs": [
    {
     "data": {
      "text/plain": [
       "'1.3.2'"
      ]
     },
     "execution_count": 8,
     "metadata": {},
     "output_type": "execute_result"
    }
   ],
   "source": [
    "import qiskit\n",
    "qiskit.__version__"
   ]
  },
  {
   "cell_type": "code",
   "execution_count": 13,
   "metadata": {},
   "outputs": [
    {
     "name": "stdout",
     "output_type": "stream",
     "text": [
      "Imports Successful\n"
     ]
    }
   ],
   "source": [
    "# pylint: disable=invalid-name\n",
    "import matplotlib.pyplot as plt\n",
    "import numpy as np\n",
    "from qiskit_aer import Aer\n",
    "from qiskit.visualization import plot_histogram\n",
    "from math import gcd\n",
    "from numpy.random import randint\n",
    "print(\"Imports Successful\")"
   ]
  },
  {
   "cell_type": "code",
   "execution_count": 14,
   "metadata": {},
   "outputs": [
    {
     "name": "stdout",
     "output_type": "stream",
     "text": [
      "Collecting qiskit-algorithms\n",
      "  Downloading qiskit_algorithms-0.3.1-py3-none-any.whl.metadata (4.2 kB)\n",
      "Requirement already satisfied: qiskit>=0.44 in e:\\softwares\\anaconda3\\envs\\qhackpy11\\lib\\site-packages (from qiskit-algorithms) (1.3.2)\n",
      "Requirement already satisfied: scipy>=1.4 in e:\\softwares\\anaconda3\\envs\\qhackpy11\\lib\\site-packages (from qiskit-algorithms) (1.15.1)\n",
      "Requirement already satisfied: numpy>=1.17 in e:\\softwares\\anaconda3\\envs\\qhackpy11\\lib\\site-packages (from qiskit-algorithms) (2.2.2)\n",
      "Requirement already satisfied: rustworkx>=0.15.0 in e:\\softwares\\anaconda3\\envs\\qhackpy11\\lib\\site-packages (from qiskit>=0.44->qiskit-algorithms) (0.16.0)\n",
      "Requirement already satisfied: sympy>=1.3 in e:\\softwares\\anaconda3\\envs\\qhackpy11\\lib\\site-packages (from qiskit>=0.44->qiskit-algorithms) (1.13.3)\n",
      "Requirement already satisfied: dill>=0.3 in e:\\softwares\\anaconda3\\envs\\qhackpy11\\lib\\site-packages (from qiskit>=0.44->qiskit-algorithms) (0.3.9)\n",
      "Requirement already satisfied: python-dateutil>=2.8.0 in e:\\softwares\\anaconda3\\envs\\qhackpy11\\lib\\site-packages (from qiskit>=0.44->qiskit-algorithms) (2.9.0.post0)\n",
      "Requirement already satisfied: stevedore>=3.0.0 in e:\\softwares\\anaconda3\\envs\\qhackpy11\\lib\\site-packages (from qiskit>=0.44->qiskit-algorithms) (5.4.0)\n",
      "Requirement already satisfied: typing-extensions in e:\\softwares\\anaconda3\\envs\\qhackpy11\\lib\\site-packages (from qiskit>=0.44->qiskit-algorithms) (4.12.2)\n",
      "Requirement already satisfied: symengine<0.14,>=0.11 in e:\\softwares\\anaconda3\\envs\\qhackpy11\\lib\\site-packages (from qiskit>=0.44->qiskit-algorithms) (0.13.0)\n",
      "Requirement already satisfied: six>=1.5 in e:\\softwares\\anaconda3\\envs\\qhackpy11\\lib\\site-packages (from python-dateutil>=2.8.0->qiskit>=0.44->qiskit-algorithms) (1.16.0)\n",
      "Requirement already satisfied: pbr>=2.0.0 in e:\\softwares\\anaconda3\\envs\\qhackpy11\\lib\\site-packages (from stevedore>=3.0.0->qiskit>=0.44->qiskit-algorithms) (6.1.0)\n",
      "Requirement already satisfied: mpmath<1.4,>=1.1.0 in e:\\softwares\\anaconda3\\envs\\qhackpy11\\lib\\site-packages (from sympy>=1.3->qiskit>=0.44->qiskit-algorithms) (1.3.0)\n",
      "Downloading qiskit_algorithms-0.3.1-py3-none-any.whl (310 kB)\n",
      "Installing collected packages: qiskit-algorithms\n",
      "Successfully installed qiskit-algorithms-0.3.1\n",
      "Note: you may need to restart the kernel to use updated packages.\n"
     ]
    }
   ],
   "source": [
    "pip install qiskit-algorithms"
   ]
  },
  {
   "cell_type": "code",
   "execution_count": 21,
   "metadata": {},
   "outputs": [],
   "source": [
    "import qiskit_algorithms"
   ]
  },
  {
   "cell_type": "code",
   "execution_count": 20,
   "metadata": {},
   "outputs": [
    {
     "ename": "NameError",
     "evalue": "name 'Shors' is not defined",
     "output_type": "error",
     "traceback": [
      "\u001b[1;31m---------------------------------------------------------------------------\u001b[0m",
      "\u001b[1;31mNameError\u001b[0m                                 Traceback (most recent call last)",
      "Cell \u001b[1;32mIn[20], line 1\u001b[0m\n\u001b[1;32m----> 1\u001b[0m Shors\n",
      "\u001b[1;31mNameError\u001b[0m: name 'Shors' is not defined"
     ]
    }
   ],
   "source": [
    "qiskit_algorithms."
   ]
  },
  {
   "cell_type": "code",
   "execution_count": null,
   "metadata": {},
   "outputs": [],
   "source": [
    "from qiskit import QuantumCircuit, Aer, transpile, assemble, execute\n",
    "from numpy.random import randint\n",
    "from math import gcd\n",
    "import numpy as np\n",
    "from fractions import Fraction\n",
    "\n",
    "def qpe_amod15(a):\n",
    "    n_count = 8\n",
    "    qc = QuantumCircuit(n_count + 4, n_count)\n",
    "    for q in range(n_count):\n",
    "        qc.h(q)     # Initialize counting qubits in state |+>\n",
    "    qc.x(3+n_count) # And auxiliary register in state |1>\n",
    "\n",
    "    for q in range(n_count):\n",
    "        qc.append(c_amod15(a, 2**q), \n",
    "                  [q] + [i+n_count for i in range(4)])\n",
    "\n",
    "    # Do inverse-QFT to finish the period finding\n",
    "    qc.append(qft_dagger(n_count), range(n_count))\n",
    "    qc.measure(range(n_count), range(n_count))\n",
    "    # Simulate and return the result\n",
    "    aer_sim = Aer.get_backend('aer_simulator')\n",
    "    t_qc = transpile(qc, aer_sim)\n",
    "    qobj = assemble(t_qc)\n",
    "    result = aer_sim.run(qobj).result()\n",
    "    counts = result.get_counts()\n",
    "    return counts\n",
    "\n",
    "def c_amod15(a, power):\n",
    "    \"\"\"Controlled multiplication by a mod 15\"\"\"\n",
    "    U = QuantumCircuit(4)\n",
    "    for iteration in range(power):\n",
    "        if a in [2, 13]:\n",
    "            U.swap(0,1)\n",
    "            U.swap(1,2)\n",
    "            U.swap(2,3)\n",
    "        if a in [7, 8]:\n",
    "            U.swap(2,3)\n",
    "            U.swap(1,2)\n",
    "            U.swap(0,1)\n",
    "        if a in [4, 11]:\n",
    "            U.swap(0,2)\n",
    "            U.swap(1,3)\n",
    "        if a in [7, 11, 8, 13]:\n",
    "            for q in range(4):\n",
    "                U.x(q)\n",
    "    U = U.to_gate()\n",
    "    U.name = f\"{a}^{power} mod 15\"\n",
    "    c_U = U.control()\n",
    "    return c_U\n",
    "\n",
    "def qft_dagger(n):\n",
    "    qc = QuantumCircuit(n)\n",
    "    for qubit in range(n//2):\n",
    "        qc.swap(qubit, n-qubit-1)\n",
    "    for j in range(n):\n",
    "        for m in range(j):\n",
    "            qc.cp(-np.pi/float(2**(j-m)), m, j)\n",
    "        qc.h(j)\n",
    "    qc.name = \"QFT†\"\n",
    "    return qc\n",
    "\n",
    "N = 15\n",
    "a = 7\n",
    "counts = qpe_amod15(a)\n",
    "print(\"Counts:\", counts)\n",
    "phases = [int(output, 2)/256 for output in counts]\n",
    "print(\"Phases:\", phases)\n",
    "frac = [Fraction(phase).limit_denominator(15) for phase in phases]\n",
    "print(\"Fractions:\", frac)\n",
    "r = frac[0].denominator\n",
    "print(\"Order r:\", r)\n",
    "if r % 2 != 0:\n",
    "    print(\"r is odd, try again.\")\n",
    "else:\n",
    "    guess1 = gcd(a**(r//2)-1, N)\n",
    "    guess2 = gcd(a**(r//2)+1, N)\n",
    "    print(f\"Factors of {N}: {guess1} and {guess2}\")\n"
   ]
  }
 ],
 "metadata": {
  "kernelspec": {
   "display_name": "qHackpy11",
   "language": "python",
   "name": "python3"
  },
  "language_info": {
   "codemirror_mode": {
    "name": "ipython",
    "version": 3
   },
   "file_extension": ".py",
   "mimetype": "text/x-python",
   "name": "python",
   "nbconvert_exporter": "python",
   "pygments_lexer": "ipython3",
   "version": "3.11.11"
  }
 },
 "nbformat": 4,
 "nbformat_minor": 2
}
