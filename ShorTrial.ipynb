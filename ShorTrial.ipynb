{
 "cells": [
  {
   "cell_type": "code",
   "execution_count": 1,
   "metadata": {},
   "outputs": [],
   "source": [
    "import QuantumRingsLib \n",
    "from QuantumRingsLib import QuantumRegister, ClassicalRegister, QuantumCircuit \n",
    "from QuantumRingsLib import QuantumRingsProvider, job_monitor \n",
    "from QuantumRingsLib import JobStatus \n",
    "import numpy as np \n",
    "import math \n",
    "from fractions import Fraction \n",
    " \n",
    "def gcd(a, b): \n",
    "    \"\"\"Compute the greatest common divisor (GCD) using Euclidean algorithm.\"\"\" \n",
    "    while b: \n",
    "        a, b = b, a % b \n",
    "    return a \n",
    " \n",
    "def quantum_period_finding(N, a): \n",
    "    \"\"\"Implements quantum phase estimation to find period r of a^r mod N.\"\"\" \n",
    "    num_qubits = int(math.log2(N)) + 2  # Enough qubits for accuracy \n",
    "    q = QuantumRegister(num_qubits, 'q') \n",
    "    c = ClassicalRegister(num_qubits - 1, 'c') \n",
    "    qc = QuantumCircuit(q, c) \n",
    "     \n",
    "    # Apply Hadamard to the first qubits \n",
    "    for i in range(num_qubits - 1): \n",
    "        qc.h(q[i]) \n",
    "     \n",
    "    # Modular exponentiation: simulate a^x mod N (simplified here, should be more robust) \n",
    "    qc.x(q[num_qubits - 1]) \n",
    "    qc.barrier() \n",
    "     \n",
    "    # Perform Inverse QFT to extract period r \n",
    "    iqft_circuit(qc, q, num_qubits - 1) \n",
    "     \n",
    "    # Measure all qubits except the last one \n",
    "    for i in range(num_qubits - 1): \n",
    "        qc.measure(q[i], c[i]) \n",
    "     \n",
    "    return qc \n",
    " \n",
    "def iqft_circuit(qc, q, n): \n",
    "    \"\"\"Implements the inverse Quantum Fourier Transform (IQFT).\"\"\" \n",
    "    for i in range(n - 1, -1, -1): \n",
    "        qc.h(q[i]) \n",
    "        for j in range(i): \n",
    "            qc.cu1(-np.pi / float(2 ** (i - j)), q[j], q[i]) \n",
    " \n",
    "def run_shors(N, a): \n",
    "    \"\"\"Runs Shor’s Algorithm on Quantum Rings to factor N.\"\"\" \n",
    "    provider = QuantumRingsProvider( \n",
    "    token='rings-200.sjCanK2skqL4YIzImD4QLXGtqRZuXAzR', \n",
    "    name='jessicaryuzaki@gmail.com' \n",
    ") \n",
    "    backend = provider.get_backend(\"scarlet_quantum_rings\") \n",
    "     \n",
    "    # Build quantum circuit \n",
    "    qc = quantum_period_finding(N, a) \n",
    "     \n",
    "    # Execute the circuit \n",
    "    job = backend.run(qc, shots=1024) \n",
    "    job_monitor(job) \n",
    "    result = job.result() \n",
    "    counts = result.get_counts() \n",
    "     \n",
    "    # Extract the most probable measurement outcome \n",
    "    measured_value = max(counts, key=counts.get)  # Binary string result \n",
    "    decimal_value = int(measured_value, 2) \n",
    "     \n",
    "    # Convert to fraction to estimate period r \n",
    "    r = Fraction(decimal_value, 2**(qc.num_qubits - 1)).denominator \n",
    "    print(f\"Estimated period r: {r}\") \n",
    "     \n",
    "    if r % 2 == 1: \n",
    "        print(\"Odd period found, retry with a different a\") \n",
    "        return None \n",
    "     \n",
    "    # Classical post-processing \n",
    "    factor1 = gcd(N, pow(a, r // 2, N) - 1) \n",
    "    factor2 = N // factor1 \n",
    "    if factor1 * factor2 == N: \n",
    "        print(f\"Factors of {N}: {factor1}, {factor2}\") \n",
    "        return factor1, factor2 \n",
    "    else: \n",
    "        print(\"Failed to factorize, retry with different a\") \n",
    "        return None \n",
    " "
   ]
  },
  {
   "cell_type": "code",
   "execution_count": 4,
   "metadata": {},
   "outputs": [
    {
     "name": "stdout",
     "output_type": "stream",
     "text": [
      "Job Queued\n",
      "Job Done.\n",
      "Ending Job Monitor\n",
      "Estimated period r: 1\n",
      "Odd period found, retry with a different a\n"
     ]
    }
   ],
   "source": [
    "# Example run (Factorizing 15 using base 7) \n",
    "run_shors(15, 7)"
   ]
  }
 ],
 "metadata": {
  "kernelspec": {
   "display_name": "qHackpy11",
   "language": "python",
   "name": "python3"
  },
  "language_info": {
   "codemirror_mode": {
    "name": "ipython",
    "version": 3
   },
   "file_extension": ".py",
   "mimetype": "text/x-python",
   "name": "python",
   "nbconvert_exporter": "python",
   "pygments_lexer": "ipython3",
   "version": "3.11.11"
  }
 },
 "nbformat": 4,
 "nbformat_minor": 2
}
