{
 "cells": [
  {
   "cell_type": "markdown",
   "id": "255d7590-bf87-47d8-b0c6-ae67aef1403c",
   "metadata": {},
   "source": [
    "See how to use Shor's algorithm to factor 15 here:    <b><a href=\"https://portal.quantumrings.com/doc/Shors.html\">Shor15</a></b>"
   ]
  },
  {
   "cell_type": "markdown",
   "id": "546dce63-062e-49d0-922a-ab233b397a70",
   "metadata": {},
   "source": [
    "<i><b>Source code to factorize 15</b></i>"
   ]
  },
  {
   "cell_type": "markdown",
   "id": "85955e61-324f-4412-9bac-e6dd69699824",
   "metadata": {},
   "source": [
    "Note: Be sure to use your API token and your account name."
   ]
  },
  {
   "cell_type": "markdown",
   "id": "ef5152de-a79d-4a8e-9870-77a2d13e265e",
   "metadata": {},
   "source": [
    "Step 1. Import the required modules and obtain the backend"
   ]
  },
  {
   "cell_type": "code",
   "execution_count": 1,
   "id": "e53468a0-19d4-4c86-80fe-2db4572bfd32",
   "metadata": {},
   "outputs": [
    {
     "name": "stdout",
     "output_type": "stream",
     "text": [
      "Requirement already satisfied: QuantumRingsLib in e:\\softwares\\anaconda3\\envs\\qhackpy11\\lib\\site-packages (0.9.11)\n",
      "Note: you may need to restart the kernel to use updated packages.\n"
     ]
    }
   ],
   "source": [
    "# pip install QuantumRingsLib"
   ]
  },
  {
   "cell_type": "code",
   "execution_count": 1,
   "id": "1098cc1a-6195-4fb4-87bb-9001779b002c",
   "metadata": {},
   "outputs": [
    {
     "data": {
      "text/plain": [
       "{'name': 'aryan.malhotra@rutgers.edu',\n",
       " 'token': 'rings-128.YXZRFUMMfK0iaD7TlGMbb9Z2qUh3XrBC',\n",
       " 'max_qubits': '128'}"
      ]
     },
     "execution_count": 1,
     "metadata": {},
     "output_type": "execute_result"
    }
   ],
   "source": [
    "import QuantumRingsLib\n",
    "from QuantumRingsLib import QuantumRegister, AncillaRegister, ClassicalRegister, QuantumCircuit\n",
    "from QuantumRingsLib import QuantumRingsProvider\n",
    "from QuantumRingsLib import job_monitor\n",
    "from QuantumRingsLib import JobStatus\n",
    "from matplotlib import pyplot as plt\n",
    "import numpy as np\n",
    "import math\n",
    "\n",
    "provider = QuantumRingsProvider(\n",
    "    token='rings-128.YXZRFUMMfK0iaD7TlGMbb9Z2qUh3XrBC',\n",
    "    name='aryan.malhotra@rutgers.edu'\n",
    ")\n",
    "backend = provider.get_backend(\"scarlet_quantum_rings\")\n",
    "shots = 2048\n",
    "\n",
    "provider.active_account()"
   ]
  },
  {
   "cell_type": "markdown",
   "id": "f92608ce-86bd-4760-bc1c-ca7e722ae280",
   "metadata": {},
   "source": [
    "Step 2. Define the core methods"
   ]
  },
  {
   "cell_type": "code",
   "execution_count": 2,
   "id": "f32086a1-a980-4d19-8f14-0adcaae9c9c9",
   "metadata": {},
   "outputs": [],
   "source": [
    "def gcd(a, b):\n",
    "    \"\"\"Compute the greatest common divisor (GCD) using Euclidean algorithm.\"\"\"\n",
    "    while b:\n",
    "        a, b = b, a % b\n",
    "    return a\n",
    "def set_reg(qc, input, q, n):\n",
    "    \"\"\"\n",
    "    Sets a quantum register with an input value.\n",
    "    Args:\n",
    "        qc (QuantumCircuit): The quantum circuit to use\n",
    "        input (int): The number to be stored in the qubit register\n",
    "        q (QuantumRegister): The qubit register which is to be programmed with the input number\n",
    "        n (int): The width of the qubit register to use..\n",
    "    \"\"\"\n",
    "    for i in range (0, n):\n",
    "        if ((1 << i) & input ):\n",
    "            qc.x(q[i])\n",
    "    return\n",
    "    \n",
    "def iqft_cct(qc, b, n):\n",
    "    \"\"\"\n",
    "    The inverse QFT circuit\n",
    "    Args:\n",
    "        qc (QuantumCircuit):The quantum circuit\n",
    "        b (QuantumRegister):The target register\n",
    "        n (int):The number of qubits in the registers to use\n",
    "    Returns:\n",
    "        None\n",
    "    \"\"\"\n",
    "    for i in range (n):\n",
    "        for j in range (1, i+1):\n",
    "            # for inverse transform, we have to use negative angles\n",
    "            qc.cu1(  -np.pi / 2** ( i -j + 1 ), b[j - 1], b[i])\n",
    "        # the H transform should be done after the rotations\n",
    "        qc.h(b[i])\n",
    "    qc.barrier()\n",
    "    return\n",
    "\n",
    "def mult_cct(qc, input1, input2, a, b, s, n):\n",
    "    \"\"\"\n",
    "    a*b multiplier circuit using QFT\n",
    "    Args:\n",
    "        qc (QuantumCircuit):The quantum circuit\n",
    "        input1 (int):The multiplicand\n",
    "        input2 (int):The multiplier\n",
    "        s (QuantumRegister):The qubit register holding product a * b\n",
    "            Note: s has two times the length of a and b\n",
    "        a (QuantumRegister):The qubit register for multiplicand\n",
    "        b (QuantumRegister):The qubit register for multiplier\n",
    "        n (int):The length of the registers\n",
    "    Returns:\n",
    "        None.\n",
    "    \"\"\"\n",
    "    set_reg(qc, input1, a, n)\n",
    "    set_reg(qc, input2, b, n)\n",
    "    for i in range (0, n):\n",
    "        c_add_qft(qc, b, s, i,  a[i], n)\n",
    "    return\n",
    "\n",
    "def c_add_qft(qc, a, b, offset, control, n):\n",
    "    \"\"\"\n",
    "        The controlled Adder using QFT.\n",
    "        Args:\n",
    "            qc (QuantumCircuit):The quantum circuit\n",
    "            a (QuantumRegister):The source register\n",
    "            b (QuantumRegister):The target register.\n",
    "            offset (int):The starting qubit in register b to work from\n",
    "            control (int):The index number of the control qubit\n",
    "            n (int):The number of qubits in the registers to use\n",
    "        Returns: None\n",
    "    \"\"\"\n",
    "    c_qft_cct(qc, b, offset, control, n)\n",
    "    c_add_cct(qc, a, b, offset, control, n)\n",
    "    c_iqft_cct(qc, b, offset, control, n)\n",
    "    return\n",
    "\n",
    "def c_add_cct(qc, a, b, offset, control, n):\n",
    "    \"\"\"\n",
    "        The controlled adder circuit module.\n",
    "        Args:\n",
    "            qc (QuantumCircuit):The quantum circuit\n",
    "            a (QuantumRegister):The source register\n",
    "            b (QuantumRegister):The target register. Computed value is stored in this register\n",
    "            offset (int):The starting qubit in register b to work from\n",
    "            n (int):The number of qubits in the registers to use\n",
    "        Returns:\n",
    "            None\n",
    "    \"\"\"\n",
    "    while (n):\n",
    "        for i in range(n, 0, -1):\n",
    "            ccu1(qc, math.pi/2**(n - i), control, a[i-1], b[n-1+offset])\n",
    "        qc.barrier()\n",
    "        n -= 1\n",
    "    return\n",
    "\n",
    "\n",
    "\n",
    "def c_iqft_cct (qc, b, offset, control, n):\n",
    "    \"\"\"\n",
    "        The controlled Inverse-QFT.\n",
    "        Args:\n",
    "            qc (QuantumCircuit):The quantum circuit\n",
    "            b (QuantumRegister):The target register.\n",
    "            offset (int):The starting qubit in register b to work from\n",
    "            control (int):The index number of the control qubit\n",
    "            n (int):The number of qubits in the registers to use\n",
    "        Returns:\n",
    "            None\n",
    "    \"\"\"\n",
    "    for i in range (n):\n",
    "        for j in range (1, i+1):\n",
    "            # for inverse transform, we have to use negative angles\n",
    "            ccu1( qc, -math.pi / 2** ( i -j + 1 ), control, b[j - 1+offset], b[i+offset])\n",
    "        # the H transform should be done after the rotations\n",
    "        qc.ch(control, b[i+offset])\n",
    "    qc.barrier()\n",
    "    return\n",
    "\n",
    "def c_qft_cct(qc, b, offset, control, n):\n",
    "    \"\"\"\n",
    "        The controlled QFT.\n",
    "        Args:\n",
    "            qc (QuantumCircuit:The quantum circuit\n",
    "            b (QuantumRegister):The target register.\n",
    "            offset (int):The starting qubit in register b to work from\n",
    "            control (int):The index number of the control qubit\n",
    "            n (int):The number of qubits in the registers to use\n",
    "        Returns:\n",
    "            None\n",
    "    \"\"\"\n",
    "    while (n):\n",
    "        qc.ch(control, b[n + offset - 1])\n",
    "        for i in range (n-1, 0, -1):\n",
    "            ccu1(qc, math.pi / 2** (n - i), control, b[i - 1 + offset], b[n + offset - 1])\n",
    "        n -= 1\n",
    "    qc.barrier()\n",
    "\n",
    "    return\n",
    "def ccu1(qc, theta, q0, q1, q2):\n",
    "    \"\"\"\n",
    "    The controlled Adder using QFT.\n",
    "    Args:\n",
    "        qc (QuantumCircuit):The quantum circuit\n",
    "        theta (float):The rotational angle. See :ref:`QuantumCircuit.u1`\n",
    "        q0 (int):The first control qubit.\n",
    "        q1 (int):The second control qubit.\n",
    "        q2 (int):The target qubit.\n",
    "    Returns:None\n",
    "    \"\"\"\n",
    "    qc.cu1(theta/2, q1, q2)\n",
    "    qc.cx(q0, q1)\n",
    "    qc.cu1(-theta/2, q1, q2)\n",
    "    qc.cx(q0, q1)\n",
    "    qc.cu1(theta/2, q0, q2)\n",
    "    return\n",
    "    \n",
    "def plot_histogram (counts, title=\"\"):\n",
    "    \"\"\"\n",
    "    Plots the histogram of the counts\n",
    "    Args:\n",
    "        counts (dict):The dictionary containing the counts of states\n",
    "        titles (str):A title for the graph.\n",
    "    Returns:None\n",
    "    \"\"\"\n",
    "    fig, ax = plt.subplots(figsize =(10, 7))\n",
    "    plt.xlabel(\"States\")\n",
    "    plt.ylabel(\"Counts\")\n",
    "    mylist = [key for key, val in counts.items() for _ in range(val)]\n",
    "\n",
    "    unique, inverse = np.unique(mylist, return_inverse=True)\n",
    "    bin_counts = np.bincount(inverse)\n",
    "\n",
    "    plt.bar(unique, bin_counts)\n",
    "\n",
    "    maxFreq = max(counts.values())\n",
    "    plt.ylim(ymax=np.ceil(maxFreq / 10) * 10 if maxFreq % 10 else maxFreq + 10)\n",
    "    # Show plot\n",
    "    plt.title(title)\n",
    "    plt.show()\n",
    "    return\n",
    "\n",
    "def test_mult(value, exponent):\n",
    "    numberofqubits = max(value, exponent, 4) #Might replace exp with value\n",
    "    a = QuantumRegister(numberofqubits , 'a')\n",
    "    b = QuantumRegister(numberofqubits , 'b')\n",
    "    s = QuantumRegister(numberofqubits*2 , 's')\n",
    "    c = ClassicalRegister(numberofqubits*2 , 'c')\n",
    "    qc = QuantumCircuit(a, b, s, c)\n",
    "    mult_cct(qc, value, exponent, a, b, s, numberofqubits)\n",
    "    for i in range (numberofqubits*2):\n",
    "        qc.measure(s[i],c[i])\n",
    "    # Execute the circuit\n",
    "    job = backend.run(qc, shots=shots)\n",
    "    job_monitor(job)\n",
    "    result = job.result()\n",
    "    counts = result.get_counts()\n",
    "    \n",
    "    if (1 < len(counts)):\n",
    "        print(\"Error: More than one result!\")\n",
    "        myproduct = 0\n",
    "    else:\n",
    "        scounts = str(counts)\n",
    "        myproduct = int(\"0b\"+scounts[scounts.index(\"{\")+2:scounts.index(\":\")-1], 2)\n",
    "    return myproduct"
   ]
  },
  {
   "cell_type": "markdown",
   "id": "2f211c13-04db-4f78-b700-5bde24875ab8",
   "metadata": {},
   "source": [
    "Step 3. Perform the algorithm"
   ]
  },
  {
   "cell_type": "code",
   "execution_count": null,
   "id": "90af8eb2-e56e-46ff-baf2-fed0c08306f9",
   "metadata": {},
   "outputs": [
    {
     "name": "stdout",
     "output_type": "stream",
     "text": [
      "Starting value:  3\n",
      "Job Running\n",
      "Job Done.\n",
      "Ending Job Monitor\n",
      "9\n",
      "9\n",
      "Job Queued\n",
      "Job Running\n",
      "Job Running\n",
      "Job Done.\n",
      "Ending Job Monitor\n",
      "27\n",
      "12\n",
      "Job Queued\n",
      "Job Running\n",
      "Job Running\n",
      "Job Running\n",
      "Job Running\n",
      "Job Done.\n",
      "Ending Job Monitor\n",
      "36\n",
      "6\n",
      "Job Queued\n",
      "Job Running\n",
      "Job Done.\n",
      "Ending Job Monitor\n",
      "18\n",
      "3\n",
      "Result is:  4\n"
     ]
    }
   ],
   "source": [
    "# Shor’s algorithm to factorize 15 using 7^x mod 15.\n",
    "numberofqubits = 20\n",
    "shots = 1024*16\n",
    "N = 15\n",
    "x0 = 3\n",
    "x = 7\n",
    "r = 0\n",
    "print(\"Starting value: \",x)\n",
    "while x != x0 or r == 0:\n",
    "    r = r+1\n",
    "    res = test_mult(x, x0)\n",
    "    print(res)\n",
    "    x = res %N\n",
    "    print(x)\n",
    "    \n",
    "print (\"Result is: \", r)\n",
    "\n",
    "# Draw the circuit\n",
    "#qc.draw('mpl') Very large circuit. Do not recommend drawing"
   ]
  },
  {
   "cell_type": "markdown",
   "id": "72783cb3-a464-4a9c-98ac-9ad533f53222",
   "metadata": {},
   "source": [
    "The circuit to factor 15 shown above."
   ]
  },
  {
   "cell_type": "code",
   "execution_count": 6,
   "id": "1923d677-ed19-4892-a44e-66f05fca3406",
   "metadata": {},
   "outputs": [
    {
     "name": "stdout",
     "output_type": "stream",
     "text": [
      "Result is:  4\n",
      "The prime factors are: 5.0 1.0\n"
     ]
    }
   ],
   "source": [
    "# visualize\n",
    "#print (counts)\n",
    "#plot_histogram(counts)\n",
    "\n",
    "p = gcd(x0**(r/2) + 1,N) \n",
    "q = gcd(x0**(r/2) - 1,N)\n",
    "print (\"Result is: \", r)\n",
    "print(\"The prime factors are:\",p,q)\n",
    "#clean up\n"
   ]
  },
  {
   "cell_type": "markdown",
   "id": "d69fcca9-6545-4f8a-9758-0865e240a57e",
   "metadata": {},
   "source": [
    "A plot of the execution results is shown above. Compare this with the calculated values."
   ]
  },
  {
   "cell_type": "markdown",
   "id": "f4545dfd-da08-4ac1-87c9-b426a92de748",
   "metadata": {},
   "source": [
    "Footnotes\n",
    "\n",
    "[1] This section is based on [10], [14], and [16].\n",
    "\n",
    "[2] https://research.ibm.com/blog/factor-15-shors-algorithm\n",
    "\n",
    "[3] https://en.wikipedia.org/wiki/Integer_factorization_records#Records_for_efforts_by_quantum_computers"
   ]
  },
  {
   "cell_type": "code",
   "execution_count": 6,
   "id": "17784939-9f96-4a1c-8682-1ac750625ef5",
   "metadata": {},
   "outputs": [],
   "source": [
    "#Post Processing\n"
   ]
  },
  {
   "cell_type": "code",
   "execution_count": 11,
   "id": "ce5230b4",
   "metadata": {},
   "outputs": [
    {
     "data": {
      "text/plain": [
       "2"
      ]
     },
     "execution_count": 11,
     "metadata": {},
     "output_type": "execute_result"
    }
   ],
   "source": [
    "gcd(-4,10)"
   ]
  }
 ],
 "metadata": {
  "kernelspec": {
   "display_name": "qHackpy11",
   "language": "python",
   "name": "python3"
  },
  "language_info": {
   "codemirror_mode": {
    "name": "ipython",
    "version": 3
   },
   "file_extension": ".py",
   "mimetype": "text/x-python",
   "name": "python",
   "nbconvert_exporter": "python",
   "pygments_lexer": "ipython3",
   "version": "3.11.11"
  }
 },
 "nbformat": 4,
 "nbformat_minor": 5
}
